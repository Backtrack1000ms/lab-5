{
 "cells": [
  {
   "cell_type": "markdown",
   "id": "cfa87c9f-dd5d-4cf7-a9f4-50de4b36ce40",
   "metadata": {},
   "source": [
    "## Классификация изображений\n",
    "### Вводные слова\n",
    "Задача классификации изображений - это одна из ключевых задач в области компьютерного зрения и машинного обучения. Она заключается в том, чтобы разработать модель, способную автоматически определить, к какому классу или категории принадлежит данное изображение. Классификация используется в следующих задачах: классификация спектрограмм музыкальных записей для выявления предпочтений конкретного пользователя, классификация изображений для автоматической идентификации людей на фотографиях, кластеризация покупок пользователя в интернет-магазине для формирования целевой рекламы, и так далее\n",
    "### Рекомендации\n",
    "Работу лучше выполнять в среде Google Colab, поскольку потребуется осуществлять вычисления на видеокарте. В Colab в меню нажмите на Изменить->Настройки блокнота и выберите доступный GPU. Это позволит использовать для обучения CUDA\n",
    "### Цель работы и задачи\n",
    "В данной работе мы разработаем модель, для предсказания класса на датасете cifar-10. Ниже будет представлена baseline модель, основываясь на которой вы можете строить свою модель для классификации\n",
    "\\\n",
    "Задачи, которые вам нужно решить в работе:\n",
    "\\\n",
    "Обязательные:\n",
    "- Построить распределение классов в данных\n",
    "- Подготовить данные и обучить baseline-модель на датасете\n",
    "- Оценить качество модели\n",
    "- Написать свою модель и обучить ее\n",
    "\n",
    "Желательные:\n",
    "- Подумать об архитектуре модели, быть может стоит сделать ее глубже, добавить боковые связи и т.д.\n",
    "- Задуматься об аугментации\n",
    "- Попробовать transfer-learning\n",
    "\n",
    "\\\n",
    "\\\n",
    "Ваша работа будет оцениваться исходя из 2 факторов:\n",
    "- контрольная метрика\n",
    "- протокол исследования, которым и будет служить этот Jupyter-Notebook\n",
    "\n",
    "\\\n",
    "Максимальный балл за работу - 20.\n",
    "\\\n",
    "Удачи!"
   ]
  },
  {
   "cell_type": "markdown",
   "id": "f7e69704-f4ce-4b25-98ce-5e98630a389d",
   "metadata": {},
   "source": [
    "## Baseline-модель"
   ]
  },
  {
   "cell_type": "code",
   "execution_count": 2,
   "id": "e06b4054-5e95-4ce5-96b0-e0817d64e809",
   "metadata": {},
   "outputs": [
    {
     "name": "stdout",
     "output_type": "stream",
     "text": [
      "Requirement already satisfied: torch in c:\\users\\zedro\\anaconda3\\lib\\site-packages (2.5.1)\n",
      "Requirement already satisfied: torchvision in c:\\users\\zedro\\anaconda3\\lib\\site-packages (0.20.1)\n",
      "Requirement already satisfied: torchaudio in c:\\users\\zedro\\anaconda3\\lib\\site-packages (2.5.1)\n",
      "Requirement already satisfied: filelock in c:\\users\\zedro\\anaconda3\\lib\\site-packages (from torch) (3.13.1)\n",
      "Requirement already satisfied: typing-extensions>=4.8.0 in c:\\users\\zedro\\anaconda3\\lib\\site-packages (from torch) (4.11.0)\n",
      "Requirement already satisfied: networkx in c:\\users\\zedro\\anaconda3\\lib\\site-packages (from torch) (3.2.1)\n",
      "Requirement already satisfied: jinja2 in c:\\users\\zedro\\anaconda3\\lib\\site-packages (from torch) (3.1.4)\n",
      "Requirement already satisfied: fsspec in c:\\users\\zedro\\anaconda3\\lib\\site-packages (from torch) (2024.3.1)\n",
      "Requirement already satisfied: setuptools in c:\\users\\zedro\\anaconda3\\lib\\site-packages (from torch) (69.5.1)\n",
      "Requirement already satisfied: sympy==1.13.1 in c:\\users\\zedro\\anaconda3\\lib\\site-packages (from torch) (1.13.1)\n",
      "Requirement already satisfied: mpmath<1.4,>=1.1.0 in c:\\users\\zedro\\anaconda3\\lib\\site-packages (from sympy==1.13.1->torch) (1.3.0)\n",
      "Requirement already satisfied: numpy in c:\\users\\zedro\\anaconda3\\lib\\site-packages (from torchvision) (1.26.4)\n",
      "Requirement already satisfied: pillow!=8.3.*,>=5.3.0 in c:\\users\\zedro\\anaconda3\\lib\\site-packages (from torchvision) (10.3.0)\n",
      "Requirement already satisfied: MarkupSafe>=2.0 in c:\\users\\zedro\\anaconda3\\lib\\site-packages (from jinja2->torch) (2.1.3)\n"
     ]
    }
   ],
   "source": [
    "!pip install torch torchvision torchaudio\n",
    "import torch\n",
    "from tqdm import tqdm\n",
    "import torch.nn as nn\n",
    "import torch.optim as optim\n",
    "import torchvision\n",
    "import torchvision.transforms as transforms\n",
    "import matplotlib.pyplot as plt\n",
    "import numpy as np\n",
    "from sklearn.model_selection import train_test_split\n",
    "from torch.functional import F"
   ]
  },
  {
   "cell_type": "markdown",
   "id": "cbb6abc6-ee2d-408a-8521-11c9602e63ce",
   "metadata": {},
   "source": [
    "Обучать мы будем, разумеется, на cuda, поэтому, создадим переменную device, которая будет зависеть от того, доступна ли видеокарта для вычислений"
   ]
  },
  {
   "cell_type": "code",
   "execution_count": 7,
   "id": "17f8d12f-a0c3-44e7-912f-59485c4146c7",
   "metadata": {},
   "outputs": [
    {
     "name": "stdout",
     "output_type": "stream",
     "text": [
      "Running on cpu\n"
     ]
    }
   ],
   "source": [
    "device = torch.device('cuda') if torch.cuda.is_available() else torch.device('cpu')\n",
    "print(f'Running on {device}')\n",
    "\n",
    "# Функция для подсчета числа параметров\n",
    "def count_parameters(model):\n",
    "    return sum(p.numel() for p in model.parameters() if p.requires_grad)"
   ]
  },
  {
   "cell_type": "code",
   "execution_count": 9,
   "id": "76fc0bb5-d955-4516-a47d-16b29c29a0af",
   "metadata": {},
   "outputs": [],
   "source": [
    "class CustomCNN(nn.Module):\n",
    "    def __init__(self, num_classes=10):\n",
    "        super(CustomCNN, self).__init__()\n",
    "        \n",
    "        self.conv1 = nn.Conv2d(3, 64, kernel_size=3, padding=1)\n",
    "        self.conv2 = nn.Conv2d(64, 128, kernel_size=3, padding=1)\n",
    "        self.conv3 = nn.Conv2d(128, 256, kernel_size=3, padding=1)\n",
    "        self.conv4 = nn.Conv2d(256, 256, kernel_size=3, padding=1)\n",
    "    \n",
    "        self.bn1 = nn.BatchNorm2d(64)\n",
    "        self.bn2 = nn.BatchNorm2d(128)\n",
    "        self.bn3 = nn.BatchNorm2d(256)    \n",
    "\n",
    "        self.pool = nn.MaxPool2d(kernel_size=2, stride=2)\n",
    "        \n",
    "        self.fc1 = nn.Linear(256 * 4 * 4, 512)\n",
    "        self.fc2 = nn.Linear(512, num_classes)\n",
    "\n",
    "        self.dropout = nn.Dropout(0.5)\n",
    "        \n",
    "    def forward(self, x):\n",
    "        x = self.pool(F.relu(self.bn1(self.conv1(x))))\n",
    "        x = self.pool(F.relu(self.bn2(self.conv2(x))))\n",
    "        x = F.relu(self.bn3(self.conv3(x)))\n",
    "        x = self.pool(F.relu(self.conv4(x)))  \n",
    "        \n",
    "        x = x.view(x.size(0), -1)\n",
    "        \n",
    "        x = F.relu(self.fc1(x))\n",
    "        x = self.dropout(x)\n",
    "        x = self.fc2(x)\n",
    "        \n",
    "        return x"
   ]
  },
  {
   "cell_type": "markdown",
   "id": "66a75636-3a12-42d0-a050-51b79b9b76ba",
   "metadata": {},
   "source": [
    "Загрузим данные, построим диаграммы для распределения классов и посмотрим на сами картинки"
   ]
  },
  {
   "cell_type": "code",
   "execution_count": 11,
   "id": "552abcaa-ae9a-4f77-a0b7-05311057d3cb",
   "metadata": {},
   "outputs": [
    {
     "name": "stdout",
     "output_type": "stream",
     "text": [
      "Downloading https://www.cs.toronto.edu/~kriz/cifar-10-python.tar.gz to ./data\\cifar-10-python.tar.gz\n"
     ]
    },
    {
     "name": "stderr",
     "output_type": "stream",
     "text": [
      "100%|███████████████████████████████████████████████████████████████████████████████| 170M/170M [02:15<00:00, 1.26MB/s]\n"
     ]
    },
    {
     "name": "stdout",
     "output_type": "stream",
     "text": [
      "Extracting ./data\\cifar-10-python.tar.gz to ./data\n",
      "Files already downloaded and verified\n"
     ]
    },
    {
     "data": {
      "image/png": "[encoded data removed]",
      "text/plain": [
       "<Figure size 1000x800 with 1 Axes>"
      ]
     },
     "metadata": {},
     "output_type": "display_data"
    }
   ],
   "source": [
    "# Будем превращать картинку в torch.Tensor\n",
    "transform = transforms.ToTensor()\n",
    "transform_train = transforms.Compose([\n",
    "    transforms.RandomCrop(32, padding=4),\n",
    "    transforms.RandomHorizontalFlip(),\n",
    "    transforms.ColorJitter(brightness=0.3, contrast=0.3, saturation=0.3, hue=0.2),\n",
    "    transforms.RandomRotation(15),\n",
    "    transforms.ToTensor(),\n",
    "    transforms.Normalize((0.5, 0.5, 0.5), (0.5, 0.5, 0.5))\n",
    "])\n",
    "# Трансформация для тестовых данных\n",
    "transform_test = transforms.Compose([\n",
    "    transforms.ToTensor(),\n",
    "    transforms.Normalize((0.5, 0.5, 0.5), (0.5, 0.5, 0.5))\n",
    "])\n",
    "# Загрузка датасетов\n",
    "train_dataset = torchvision.datasets.CIFAR10(root='./data', train=True, transform=transform_train, download=True)\n",
    "test_dataset = torchvision.datasets.CIFAR10(root='./data', train=False, transform=transform_test, download=True)\n",
    "# Получим метки классов\n",
    "class_labels = train_dataset.classes\n",
    "class_counts = np.array([0] * len(class_labels))\n",
    "# Посчитаем число меток классов\n",
    "for _, label in train_dataset:\n",
    "    class_counts[label] += 1\n",
    "class_counts = class_counts / class_counts.sum() * 100\n",
    "# Построим диаграмму\n",
    "plt.figure(figsize=(10, 8))\n",
    "plt.bar(class_labels, class_counts)\n",
    "plt.xlabel('Классы')\n",
    "plt.ylabel('Количество изображений, %')\n",
    "plt.title('Распределение классов в датасете CIFAR-10')\n",
    "plt.xticks(rotation=45)\n",
    "plt.tight_layout()\n",
    "plt.show()"
   ]
  },
  {
   "cell_type": "code",
   "execution_count": 14,
   "id": "f4505ddd-6bdb-42eb-9d83-c78091a824b4",
   "metadata": {},
   "outputs": [
    {
     "name": "stderr",
     "output_type": "stream",
     "text": [
      "Clipping input data to the valid range for imshow with RGB data ([0..1] for floats or [0..255] for integers).\n",
      "Clipping input data to the valid range for imshow with RGB data ([0..1] for floats or [0..255] for integers).\n",
      "Clipping input data to the valid range for imshow with RGB data ([0..1] for floats or [0..255] for integers).\n",
      "Clipping input data to the valid range for imshow with RGB data ([0..1] for floats or [0..255] for integers).\n",
      "Clipping input data to the valid range for imshow with RGB data ([0..1] for floats or [0..255] for integers).\n",
      "Clipping input data to the valid range for imshow with RGB data ([0..1] for floats or [0..255] for integers).\n",
      "Clipping input data to the valid range for imshow with RGB data ([0..1] for floats or [0..255] for integers).\n",
      "Clipping input data to the valid range for imshow with RGB data ([0..1] for floats or [0..255] for integers).\n",
      "Clipping input data to the valid range for imshow with RGB data ([0..1] for floats or [0..255] for integers).\n"
     ]
    },
    {
     "data": {
      "image/png": "[encoded data removed]",
      "text/plain": [
       "<Figure size 800x800 with 9 Axes>"
      ]
     },
     "metadata": {},
     "output_type": "display_data"
    }
   ],
   "source": [
    "indices = np.random.choice(len(train_dataset), 9, replace=False)\n",
    "\n",
    "fig, axes = plt.subplots(3, 3, figsize=(8, 8))\n",
    "for i, ax in enumerate(axes.flat):\n",
    "    image, label = train_dataset[indices[i]]\n",
    "    image = image.numpy().transpose((1, 2, 0))  \n",
    "    ax.imshow(image)\n",
    "    ax.set_title(f'Label: {label}')\n",
    "    ax.axis('off')\n",
    "\n",
    "plt.show()"
   ]
  },
  {
   "cell_type": "markdown",
   "id": "2d176f3c-b153-4ed8-8963-b268f7b5972f",
   "metadata": {},
   "source": [
    "Сделайте вывод о сбалансированности датасета:\n",
    "\\\n",
    "Исходя из этого, какие метрики будем применять для оценки качества модели?\n",
    "Все 10 классов, таких как \"airplane\", \"automobile\", \"bird\" и другие, представлены равномерно, каждый примерно по 10% от общего числа изображений, что указывает на сбалансированность датасета и отсутствие проблемы несбалансированных классов. Разрешение изображений низкое — всего 32x32 пикселя, что соответствует стандарту CIFAR-10. Такое разрешение затрудняет их восприятие человеческим глазом, но делает их вполне подходящими для анализа с помощью моделей глубокого обучения. Некоторые изображения выглядят темными или необычно окрашенными, вероятно, из-за нормализации данных, где значения пикселей лежат в диапазоне [-1, 1]. Для корректной визуализации нормализацию следует преобразовать в диапазон [0, 1] или [0, 255]. Поскольку датасет сбалансирован, для оценки качества модели можно использовать accuracy (точность) в качестве основной метрики. Также полезно анализировать confusion matrix, чтобы понять, на каких классах модель ошибается чаще всего, например, при путанице между классами \"cat\" и \"dog\"."
   ]
  },
  {
   "cell_type": "markdown",
   "id": "f411c3aa-4894-40f4-9f2e-5cab17405d05",
   "metadata": {},
   "source": [
    "Напишем функции train и test"
   ]
  },
  {
   "cell_type": "code",
   "execution_count": 22,
   "id": "85dd72a1-ff5a-493e-be70-da9af9efcc22",
   "metadata": {},
   "outputs": [],
   "source": [
    "def train(model, train_loader, val_loader, criterion, optimizer, scheduler, device, epochs=10):\n",
    "    model.train()\n",
    "    model = model.to(device)\n",
    "    train_loss_history = []\n",
    "    train_acc_history = []\n",
    "    val_loss_history = []\n",
    "    val_acc_history = []\n",
    "    for epoch in range(epochs):\n",
    "        running_loss = 0.0\n",
    "        correct = 0\n",
    "        total = 0\n",
    "        pbar = tqdm(enumerate(train_loader), total=len(train_loader), ncols=100, desc=f'Train epoch {epoch + 1}/{epochs}')\n",
    "        for batch_idx, (inputs, labels) in pbar:\n",
    "            inputs, labels = inputs.to(device), labels.to(device)\n",
    "            optimizer.zero_grad()\n",
    "            outputs = model(inputs)\n",
    "            loss = criterion(outputs, labels)\n",
    "            loss.backward()\n",
    "            optimizer.step()\n",
    "\n",
    "            running_loss += loss.item()\n",
    "            _, predicted = torch.max(outputs.data, 1)\n",
    "            total += labels.size(0)\n",
    "            correct += (predicted == labels).sum().item()\n",
    "            pbar.set_postfix({'loss': f'{running_loss / (batch_idx + 1):.4f}', 'accuracy': f'{correct / total:.4f}'})\n",
    "        \n",
    "        train_loss_history.append(running_loss / len(train_loader))\n",
    "        train_acc_history.append(correct / total)\n",
    "\n",
    "        model.eval()\n",
    "        val_loss, val_correct, val_total = 0.0, 0, 0\n",
    "        with torch.no_grad():\n",
    "            for inputs, labels in val_loader:\n",
    "                inputs, labels = inputs.to(device), labels.to(device)\n",
    "                outputs = model(inputs)\n",
    "                loss = criterion(outputs, labels)\n",
    "                val_loss += loss.item()\n",
    "                _, predicted = torch.max(outputs.data, 1)\n",
    "                val_total += labels.size(0)\n",
    "                val_correct += (predicted == labels).sum().item()\n",
    "        \n",
    "        val_loss_history.append(val_loss / len(val_loader))\n",
    "        val_acc_history.append(val_correct / val_total)\n",
    "\n",
    "        scheduler.step()\n",
    "\n",
    "        print(f'Epoch {epoch + 1}/{epochs} -> Train Loss: {running_loss / len(train_loader):.4f}, Train Acc: {correct / total:.4f}, Val Loss: {val_loss / len(val_loader):.4f}, Val Acc: {val_correct / val_total:.4f}')\n",
    "    \n",
    "    return train_loss_history, train_acc_history, val_loss_history, val_acc_history\n",
    "\n",
    "def test(model, test_loader, criterion, device):\n",
    "    model.eval()\n",
    "    correct = 0\n",
    "    total = 0\n",
    "    test_loss = 0.0\n",
    "    with torch.no_grad():\n",
    "        for inputs, labels in test_loader:\n",
    "            inputs, labels = inputs.to(device), labels.to(device)\n",
    "            outputs = model(inputs)\n",
    "            loss = criterion(outputs, labels)\n",
    "            test_loss += loss.item()\n",
    "            _, predicted = torch.max(outputs.data, 1)\n",
    "            total += labels.size(0)\n",
    "            correct += (predicted == labels).sum().item()\n",
    "\n",
    "    accuracy = correct / total\n",
    "    average_loss = test_loss / len(test_loader)\n",
    "    \n",
    "    return accuracy, average_loss"
   ]
  },
  {
   "cell_type": "markdown",
   "id": "1aba5730-5f22-4715-b181-5d3878fa12bc",
   "metadata": {},
   "source": [
    "Сделайте разделение на train и val\n",
    "\\\n",
    "Зачем так делать?\n",
    "Разделение данных на train и test нужно, чтобы обучать модель на одной части данных (train) и проверять её качество на другой части (test), которую она не видела. Это помогает предотвратить переобучение и оценить способность модели обобщать закономерности на новых данных."
   ]
  },
  {
   "cell_type": "code",
   "execution_count": 25,
   "id": "e53ab630-8224-4d2f-9d02-79ab163d3fd1",
   "metadata": {},
   "outputs": [],
   "source": [
    "train_size = int(0.8 * len(train_dataset))  \n",
    "val_size = len(train_dataset) - train_size  \n",
    "\n",
    "train_dataset, val_dataset = torch.utils.data.random_split(train_dataset, [train_size, val_size])"
   ]
  },
  {
   "cell_type": "markdown",
   "id": "d0108c36-a287-410a-a4db-ec018503f113",
   "metadata": {},
   "source": [
    "Создайте Dataloader'ы и настройте гиперпараметры, оптимизатор и функцию потерь\n",
    "\\\n",
    "Какой оптимизатор будете использовать и почему, а какую loss-функцию?"
   ]
  },
  {
   "cell_type": "code",
   "execution_count": 27,
   "id": "2a4a9cbd-5969-4bac-8fa0-9f5415082b2b",
   "metadata": {},
   "outputs": [
    {
     "name": "stdout",
     "output_type": "stream",
     "text": [
      "Model params:  3064586\n"
     ]
    }
   ],
   "source": [
    "learning_rate = 0.001\n",
    "num_epochs = 50\n",
    "batch_size = 64\n",
    "\n",
    "# Модель\n",
    "model = CustomCNN(num_classes=10)\n",
    "print('Model params: ', count_parameters(model))\n",
    "\n",
    "# Функция потерь и оптимизатор\n",
    "criterion = nn.CrossEntropyLoss()\n",
    "optimizer = optim.Adam(model.parameters(), lr=learning_rate)\n",
    "\n",
    "# Планировщик обучения\n",
    "scheduler = torch.optim.lr_scheduler.StepLR(optimizer, step_size=10, gamma=0.5)\n",
    "\n",
    "# DataLoader'ы\n",
    "train_loader = torch.utils.data.DataLoader(train_dataset, batch_size=batch_size, shuffle=True)\n",
    "val_loader = torch.utils.data.DataLoader(test_dataset, batch_size=batch_size, shuffle=False)\n",
    "test_loader = torch.utils.data.DataLoader(test_dataset, batch_size=batch_size, shuffle=False)"
   ]
  },
  {
   "cell_type": "markdown",
   "id": "6f1ff197-828a-4eda-ac8d-6a07d9597db5",
   "metadata": {},
   "source": [
    "Обучите модель и постройте графики обучения"
   ]
  },
  {
   "cell_type": "code",
   "execution_count": 29,
   "id": "f7508531-309f-4e77-8c98-0c8e41005eb1",
   "metadata": {},
   "outputs": [
    {
     "name": "stderr",
     "output_type": "stream",
     "text": [
      "Train epoch 1/50: 100%|█████████████| 625/625 [01:36<00:00,  6.48it/s, loss=1.7074, accuracy=0.3715]\n"
     ]
    },
    {
     "name": "stdout",
     "output_type": "stream",
     "text": [
      "Epoch 1/50 -> Train Loss: 1.7074, Train Acc: 0.3715, Val Loss: 1.4578, Val Acc: 0.4911\n"
     ]
    },
    {
     "name": "stderr",
     "output_type": "stream",
     "text": [
      "Train epoch 2/50: 100%|█████████████| 625/625 [01:34<00:00,  6.59it/s, loss=1.3818, accuracy=0.5006]\n"
     ]
    },
    {
     "name": "stdout",
     "output_type": "stream",
     "text": [
      "Epoch 2/50 -> Train Loss: 1.3818, Train Acc: 0.5006, Val Loss: 1.1225, Val Acc: 0.6019\n"
     ]
    },
    {
     "name": "stderr",
     "output_type": "stream",
     "text": [
      "Train epoch 3/50: 100%|█████████████| 625/625 [01:36<00:00,  6.49it/s, loss=1.2107, accuracy=0.5657]\n"
     ]
    },
    {
     "name": "stdout",
     "output_type": "stream",
     "text": [
      "Epoch 3/50 -> Train Loss: 1.2107, Train Acc: 0.5657, Val Loss: 1.0179, Val Acc: 0.6387\n"
     ]
    },
    {
     "name": "stderr",
     "output_type": "stream",
     "text": [
      "Train epoch 4/50: 100%|█████████████| 625/625 [01:33<00:00,  6.67it/s, loss=1.1071, accuracy=0.6028]\n"
     ]
    },
    {
     "name": "stdout",
     "output_type": "stream",
     "text": [
      "Epoch 4/50 -> Train Loss: 1.1071, Train Acc: 0.6028, Val Loss: 0.9299, Val Acc: 0.6674\n"
     ]
    },
    {
     "name": "stderr",
     "output_type": "stream",
     "text": [
      "Train epoch 5/50: 100%|█████████████| 625/625 [01:35<00:00,  6.54it/s, loss=1.0319, accuracy=0.6317]\n"
     ]
    },
    {
     "name": "stdout",
     "output_type": "stream",
     "text": [
      "Epoch 5/50 -> Train Loss: 1.0319, Train Acc: 0.6317, Val Loss: 0.8445, Val Acc: 0.7050\n"
     ]
    },
    {
     "name": "stderr",
     "output_type": "stream",
     "text": [
      "Train epoch 6/50: 100%|█████████████| 625/625 [01:34<00:00,  6.61it/s, loss=0.9829, accuracy=0.6534]\n"
     ]
    },
    {
     "name": "stdout",
     "output_type": "stream",
     "text": [
      "Epoch 6/50 -> Train Loss: 0.9829, Train Acc: 0.6534, Val Loss: 0.8078, Val Acc: 0.7160\n"
     ]
    },
    {
     "name": "stderr",
     "output_type": "stream",
     "text": [
      "Train epoch 7/50: 100%|█████████████| 625/625 [01:40<00:00,  6.22it/s, loss=0.9315, accuracy=0.6697]\n"
     ]
    },
    {
     "name": "stdout",
     "output_type": "stream",
     "text": [
      "Epoch 7/50 -> Train Loss: 0.9315, Train Acc: 0.6697, Val Loss: 0.7690, Val Acc: 0.7376\n"
     ]
    },
    {
     "name": "stderr",
     "output_type": "stream",
     "text": [
      "Train epoch 8/50: 100%|█████████████| 625/625 [01:41<00:00,  6.18it/s, loss=0.8877, accuracy=0.6866]\n"
     ]
    },
    {
     "name": "stdout",
     "output_type": "stream",
     "text": [
      "Epoch 8/50 -> Train Loss: 0.8877, Train Acc: 0.6866, Val Loss: 0.7657, Val Acc: 0.7343\n"
     ]
    },
    {
     "name": "stderr",
     "output_type": "stream",
     "text": [
      "Train epoch 9/50: 100%|█████████████| 625/625 [01:50<00:00,  5.64it/s, loss=0.8620, accuracy=0.6952]\n"
     ]
    },
    {
     "name": "stdout",
     "output_type": "stream",
     "text": [
      "Epoch 9/50 -> Train Loss: 0.8620, Train Acc: 0.6952, Val Loss: 0.7121, Val Acc: 0.7524\n"
     ]
    },
    {
     "name": "stderr",
     "output_type": "stream",
     "text": [
      "Train epoch 10/50: 100%|████████████| 625/625 [01:43<00:00,  6.04it/s, loss=0.8338, accuracy=0.7079]\n"
     ]
    },
    {
     "name": "stdout",
     "output_type": "stream",
     "text": [
      "Epoch 10/50 -> Train Loss: 0.8338, Train Acc: 0.7079, Val Loss: 0.7608, Val Acc: 0.7366\n"
     ]
    },
    {
     "name": "stderr",
     "output_type": "stream",
     "text": [
      "Train epoch 11/50: 100%|████████████| 625/625 [01:49<00:00,  5.70it/s, loss=0.7429, accuracy=0.7372]\n"
     ]
    },
    {
     "name": "stdout",
     "output_type": "stream",
     "text": [
      "Epoch 11/50 -> Train Loss: 0.7429, Train Acc: 0.7372, Val Loss: 0.6560, Val Acc: 0.7700\n"
     ]
    },
    {
     "name": "stderr",
     "output_type": "stream",
     "text": [
      "Train epoch 12/50: 100%|████████████| 625/625 [01:45<00:00,  5.90it/s, loss=0.7215, accuracy=0.7458]\n"
     ]
    },
    {
     "name": "stdout",
     "output_type": "stream",
     "text": [
      "Epoch 12/50 -> Train Loss: 0.7215, Train Acc: 0.7458, Val Loss: 0.6156, Val Acc: 0.7857\n"
     ]
    },
    {
     "name": "stderr",
     "output_type": "stream",
     "text": [
      "Train epoch 13/50: 100%|████████████| 625/625 [01:41<00:00,  6.16it/s, loss=0.6986, accuracy=0.7560]\n"
     ]
    },
    {
     "name": "stdout",
     "output_type": "stream",
     "text": [
      "Epoch 13/50 -> Train Loss: 0.6986, Train Acc: 0.7560, Val Loss: 0.6191, Val Acc: 0.7879\n"
     ]
    },
    {
     "name": "stderr",
     "output_type": "stream",
     "text": [
      "Train epoch 14/50: 100%|████████████| 625/625 [01:40<00:00,  6.21it/s, loss=0.6818, accuracy=0.7613]\n"
     ]
    },
    {
     "name": "stdout",
     "output_type": "stream",
     "text": [
      "Epoch 14/50 -> Train Loss: 0.6818, Train Acc: 0.7613, Val Loss: 0.6215, Val Acc: 0.7882\n"
     ]
    },
    {
     "name": "stderr",
     "output_type": "stream",
     "text": [
      "Train epoch 15/50: 100%|████████████| 625/625 [01:41<00:00,  6.17it/s, loss=0.6686, accuracy=0.7638]\n"
     ]
    },
    {
     "name": "stdout",
     "output_type": "stream",
     "text": [
      "Epoch 15/50 -> Train Loss: 0.6686, Train Acc: 0.7638, Val Loss: 0.6223, Val Acc: 0.7892\n"
     ]
    },
    {
     "name": "stderr",
     "output_type": "stream",
     "text": [
      "Train epoch 16/50: 100%|████████████| 625/625 [01:45<00:00,  5.94it/s, loss=0.6550, accuracy=0.7693]\n"
     ]
    },
    {
     "name": "stdout",
     "output_type": "stream",
     "text": [
      "Epoch 16/50 -> Train Loss: 0.6550, Train Acc: 0.7693, Val Loss: 0.5909, Val Acc: 0.7971\n"
     ]
    },
    {
     "name": "stderr",
     "output_type": "stream",
     "text": [
      "Train epoch 17/50: 100%|████████████| 625/625 [01:41<00:00,  6.14it/s, loss=0.6442, accuracy=0.7730]\n"
     ]
    },
    {
     "name": "stdout",
     "output_type": "stream",
     "text": [
      "Epoch 17/50 -> Train Loss: 0.6442, Train Acc: 0.7730, Val Loss: 0.5910, Val Acc: 0.7951\n"
     ]
    },
    {
     "name": "stderr",
     "output_type": "stream",
     "text": [
      "Train epoch 18/50: 100%|████████████| 625/625 [01:41<00:00,  6.18it/s, loss=0.6314, accuracy=0.7794]\n"
     ]
    },
    {
     "name": "stdout",
     "output_type": "stream",
     "text": [
      "Epoch 18/50 -> Train Loss: 0.6314, Train Acc: 0.7794, Val Loss: 0.5934, Val Acc: 0.8009\n"
     ]
    },
    {
     "name": "stderr",
     "output_type": "stream",
     "text": [
      "Train epoch 19/50: 100%|████████████| 625/625 [01:40<00:00,  6.20it/s, loss=0.6163, accuracy=0.7827]\n"
     ]
    },
    {
     "name": "stdout",
     "output_type": "stream",
     "text": [
      "Epoch 19/50 -> Train Loss: 0.6163, Train Acc: 0.7827, Val Loss: 0.5637, Val Acc: 0.8071\n"
     ]
    },
    {
     "name": "stderr",
     "output_type": "stream",
     "text": [
      "Train epoch 20/50: 100%|████████████| 625/625 [01:41<00:00,  6.13it/s, loss=0.6082, accuracy=0.7861]\n"
     ]
    },
    {
     "name": "stdout",
     "output_type": "stream",
     "text": [
      "Epoch 20/50 -> Train Loss: 0.6082, Train Acc: 0.7861, Val Loss: 0.5763, Val Acc: 0.8067\n"
     ]
    },
    {
     "name": "stderr",
     "output_type": "stream",
     "text": [
      "Train epoch 21/50: 100%|████████████| 625/625 [01:41<00:00,  6.15it/s, loss=0.5620, accuracy=0.8038]\n"
     ]
    },
    {
     "name": "stdout",
     "output_type": "stream",
     "text": [
      "Epoch 21/50 -> Train Loss: 0.5620, Train Acc: 0.8038, Val Loss: 0.5444, Val Acc: 0.8217\n"
     ]
    },
    {
     "name": "stderr",
     "output_type": "stream",
     "text": [
      "Train epoch 22/50: 100%|████████████| 625/625 [01:41<00:00,  6.16it/s, loss=0.5488, accuracy=0.8085]\n"
     ]
    },
    {
     "name": "stdout",
     "output_type": "stream",
     "text": [
      "Epoch 22/50 -> Train Loss: 0.5488, Train Acc: 0.8085, Val Loss: 0.5405, Val Acc: 0.8213\n"
     ]
    },
    {
     "name": "stderr",
     "output_type": "stream",
     "text": [
      "Train epoch 23/50: 100%|████████████| 625/625 [01:41<00:00,  6.15it/s, loss=0.5379, accuracy=0.8117]\n"
     ]
    },
    {
     "name": "stdout",
     "output_type": "stream",
     "text": [
      "Epoch 23/50 -> Train Loss: 0.5379, Train Acc: 0.8117, Val Loss: 0.5207, Val Acc: 0.8276\n"
     ]
    },
    {
     "name": "stderr",
     "output_type": "stream",
     "text": [
      "Train epoch 24/50: 100%|████████████| 625/625 [01:42<00:00,  6.08it/s, loss=0.5299, accuracy=0.8135]\n"
     ]
    },
    {
     "name": "stdout",
     "output_type": "stream",
     "text": [
      "Epoch 24/50 -> Train Loss: 0.5299, Train Acc: 0.8135, Val Loss: 0.5293, Val Acc: 0.8269\n"
     ]
    },
    {
     "name": "stderr",
     "output_type": "stream",
     "text": [
      "Train epoch 25/50: 100%|████████████| 625/625 [01:42<00:00,  6.12it/s, loss=0.5258, accuracy=0.8145]\n"
     ]
    },
    {
     "name": "stdout",
     "output_type": "stream",
     "text": [
      "Epoch 25/50 -> Train Loss: 0.5258, Train Acc: 0.8145, Val Loss: 0.5258, Val Acc: 0.8286\n"
     ]
    },
    {
     "name": "stderr",
     "output_type": "stream",
     "text": [
      "Train epoch 26/50: 100%|████████████| 625/625 [01:42<00:00,  6.11it/s, loss=0.5183, accuracy=0.8193]\n"
     ]
    },
    {
     "name": "stdout",
     "output_type": "stream",
     "text": [
      "Epoch 26/50 -> Train Loss: 0.5183, Train Acc: 0.8193, Val Loss: 0.5318, Val Acc: 0.8218\n"
     ]
    },
    {
     "name": "stderr",
     "output_type": "stream",
     "text": [
      "Train epoch 27/50: 100%|████████████| 625/625 [01:41<00:00,  6.13it/s, loss=0.5069, accuracy=0.8208]\n"
     ]
    },
    {
     "name": "stdout",
     "output_type": "stream",
     "text": [
      "Epoch 27/50 -> Train Loss: 0.5069, Train Acc: 0.8208, Val Loss: 0.5308, Val Acc: 0.8265\n"
     ]
    },
    {
     "name": "stderr",
     "output_type": "stream",
     "text": [
      "Train epoch 28/50: 100%|████████████| 625/625 [01:43<00:00,  6.07it/s, loss=0.5023, accuracy=0.8211]\n"
     ]
    },
    {
     "name": "stdout",
     "output_type": "stream",
     "text": [
      "Epoch 28/50 -> Train Loss: 0.5023, Train Acc: 0.8211, Val Loss: 0.5355, Val Acc: 0.8213\n"
     ]
    },
    {
     "name": "stderr",
     "output_type": "stream",
     "text": [
      "Train epoch 29/50: 100%|████████████| 625/625 [01:42<00:00,  6.08it/s, loss=0.4941, accuracy=0.8259]\n"
     ]
    },
    {
     "name": "stdout",
     "output_type": "stream",
     "text": [
      "Epoch 29/50 -> Train Loss: 0.4941, Train Acc: 0.8259, Val Loss: 0.5220, Val Acc: 0.8310\n"
     ]
    },
    {
     "name": "stderr",
     "output_type": "stream",
     "text": [
      "Train epoch 30/50: 100%|████████████| 625/625 [01:42<00:00,  6.08it/s, loss=0.4980, accuracy=0.8234]\n"
     ]
    },
    {
     "name": "stdout",
     "output_type": "stream",
     "text": [
      "Epoch 30/50 -> Train Loss: 0.4980, Train Acc: 0.8234, Val Loss: 0.5165, Val Acc: 0.8309\n"
     ]
    },
    {
     "name": "stderr",
     "output_type": "stream",
     "text": [
      "Train epoch 31/50: 100%|████████████| 625/625 [01:48<00:00,  5.78it/s, loss=0.4660, accuracy=0.8350]\n"
     ]
    },
    {
     "name": "stdout",
     "output_type": "stream",
     "text": [
      "Epoch 31/50 -> Train Loss: 0.4660, Train Acc: 0.8350, Val Loss: 0.5106, Val Acc: 0.8347\n"
     ]
    },
    {
     "name": "stderr",
     "output_type": "stream",
     "text": [
      "Train epoch 32/50: 100%|████████████| 625/625 [01:45<00:00,  5.91it/s, loss=0.4600, accuracy=0.8377]\n"
     ]
    },
    {
     "name": "stdout",
     "output_type": "stream",
     "text": [
      "Epoch 32/50 -> Train Loss: 0.4600, Train Acc: 0.8377, Val Loss: 0.5049, Val Acc: 0.8367\n"
     ]
    },
    {
     "name": "stderr",
     "output_type": "stream",
     "text": [
      "Train epoch 33/50: 100%|████████████| 625/625 [01:35<00:00,  6.58it/s, loss=0.4530, accuracy=0.8418]\n"
     ]
    },
    {
     "name": "stdout",
     "output_type": "stream",
     "text": [
      "Epoch 33/50 -> Train Loss: 0.4530, Train Acc: 0.8418, Val Loss: 0.5088, Val Acc: 0.8365\n"
     ]
    },
    {
     "name": "stderr",
     "output_type": "stream",
     "text": [
      "Train epoch 34/50: 100%|████████████| 625/625 [01:35<00:00,  6.53it/s, loss=0.4489, accuracy=0.8414]\n"
     ]
    },
    {
     "name": "stdout",
     "output_type": "stream",
     "text": [
      "Epoch 34/50 -> Train Loss: 0.4489, Train Acc: 0.8414, Val Loss: 0.5117, Val Acc: 0.8342\n"
     ]
    },
    {
     "name": "stderr",
     "output_type": "stream",
     "text": [
      "Train epoch 35/50: 100%|████████████| 625/625 [01:39<00:00,  6.28it/s, loss=0.4472, accuracy=0.8428]\n"
     ]
    },
    {
     "name": "stdout",
     "output_type": "stream",
     "text": [
      "Epoch 35/50 -> Train Loss: 0.4472, Train Acc: 0.8428, Val Loss: 0.4986, Val Acc: 0.8377\n"
     ]
    },
    {
     "name": "stderr",
     "output_type": "stream",
     "text": [
      "Train epoch 36/50: 100%|████████████| 625/625 [01:38<00:00,  6.33it/s, loss=0.4428, accuracy=0.8429]\n"
     ]
    },
    {
     "name": "stdout",
     "output_type": "stream",
     "text": [
      "Epoch 36/50 -> Train Loss: 0.4428, Train Acc: 0.8429, Val Loss: 0.4999, Val Acc: 0.8417\n"
     ]
    },
    {
     "name": "stderr",
     "output_type": "stream",
     "text": [
      "Train epoch 37/50: 100%|████████████| 625/625 [01:45<00:00,  5.90it/s, loss=0.4356, accuracy=0.8452]\n"
     ]
    },
    {
     "name": "stdout",
     "output_type": "stream",
     "text": [
      "Epoch 37/50 -> Train Loss: 0.4356, Train Acc: 0.8452, Val Loss: 0.5006, Val Acc: 0.8395\n"
     ]
    },
    {
     "name": "stderr",
     "output_type": "stream",
     "text": [
      "Train epoch 38/50: 100%|████████████| 625/625 [01:49<00:00,  5.69it/s, loss=0.4327, accuracy=0.8466]\n"
     ]
    },
    {
     "name": "stdout",
     "output_type": "stream",
     "text": [
      "Epoch 38/50 -> Train Loss: 0.4327, Train Acc: 0.8466, Val Loss: 0.4963, Val Acc: 0.8422\n"
     ]
    },
    {
     "name": "stderr",
     "output_type": "stream",
     "text": [
      "Train epoch 39/50: 100%|████████████| 625/625 [01:48<00:00,  5.77it/s, loss=0.4371, accuracy=0.8474]\n"
     ]
    },
    {
     "name": "stdout",
     "output_type": "stream",
     "text": [
      "Epoch 39/50 -> Train Loss: 0.4371, Train Acc: 0.8474, Val Loss: 0.4914, Val Acc: 0.8392\n"
     ]
    },
    {
     "name": "stderr",
     "output_type": "stream",
     "text": [
      "Train epoch 40/50: 100%|████████████| 625/625 [01:46<00:00,  5.87it/s, loss=0.4304, accuracy=0.8485]\n"
     ]
    },
    {
     "name": "stdout",
     "output_type": "stream",
     "text": [
      "Epoch 40/50 -> Train Loss: 0.4304, Train Acc: 0.8485, Val Loss: 0.5003, Val Acc: 0.8367\n"
     ]
    },
    {
     "name": "stderr",
     "output_type": "stream",
     "text": [
      "Train epoch 41/50: 100%|████████████| 625/625 [01:47<00:00,  5.79it/s, loss=0.4177, accuracy=0.8554]\n"
     ]
    },
    {
     "name": "stdout",
     "output_type": "stream",
     "text": [
      "Epoch 41/50 -> Train Loss: 0.4177, Train Acc: 0.8554, Val Loss: 0.4950, Val Acc: 0.8408\n"
     ]
    },
    {
     "name": "stderr",
     "output_type": "stream",
     "text": [
      "Train epoch 42/50: 100%|████████████| 625/625 [01:45<00:00,  5.91it/s, loss=0.4130, accuracy=0.8544]\n"
     ]
    },
    {
     "name": "stdout",
     "output_type": "stream",
     "text": [
      "Epoch 42/50 -> Train Loss: 0.4130, Train Acc: 0.8544, Val Loss: 0.4928, Val Acc: 0.8446\n"
     ]
    },
    {
     "name": "stderr",
     "output_type": "stream",
     "text": [
      "Train epoch 43/50: 100%|████████████| 625/625 [01:45<00:00,  5.95it/s, loss=0.4105, accuracy=0.8541]\n"
     ]
    },
    {
     "name": "stdout",
     "output_type": "stream",
     "text": [
      "Epoch 43/50 -> Train Loss: 0.4105, Train Acc: 0.8541, Val Loss: 0.4954, Val Acc: 0.8449\n"
     ]
    },
    {
     "name": "stderr",
     "output_type": "stream",
     "text": [
      "Train epoch 44/50: 100%|████████████| 625/625 [01:46<00:00,  5.88it/s, loss=0.4048, accuracy=0.8551]\n"
     ]
    },
    {
     "name": "stdout",
     "output_type": "stream",
     "text": [
      "Epoch 44/50 -> Train Loss: 0.4048, Train Acc: 0.8551, Val Loss: 0.4912, Val Acc: 0.8430\n"
     ]
    },
    {
     "name": "stderr",
     "output_type": "stream",
     "text": [
      "Train epoch 45/50: 100%|████████████| 625/625 [01:54<00:00,  5.47it/s, loss=0.3993, accuracy=0.8594]\n"
     ]
    },
    {
     "name": "stdout",
     "output_type": "stream",
     "text": [
      "Epoch 45/50 -> Train Loss: 0.3993, Train Acc: 0.8594, Val Loss: 0.4966, Val Acc: 0.8421\n"
     ]
    },
    {
     "name": "stderr",
     "output_type": "stream",
     "text": [
      "Train epoch 46/50: 100%|████████████| 625/625 [01:52<00:00,  5.53it/s, loss=0.3998, accuracy=0.8563]\n"
     ]
    },
    {
     "name": "stdout",
     "output_type": "stream",
     "text": [
      "Epoch 46/50 -> Train Loss: 0.3998, Train Acc: 0.8563, Val Loss: 0.4991, Val Acc: 0.8409\n"
     ]
    },
    {
     "name": "stderr",
     "output_type": "stream",
     "text": [
      "Train epoch 47/50: 100%|████████████| 625/625 [01:53<00:00,  5.51it/s, loss=0.3991, accuracy=0.8595]\n"
     ]
    },
    {
     "name": "stdout",
     "output_type": "stream",
     "text": [
      "Epoch 47/50 -> Train Loss: 0.3991, Train Acc: 0.8595, Val Loss: 0.5000, Val Acc: 0.8410\n"
     ]
    },
    {
     "name": "stderr",
     "output_type": "stream",
     "text": [
      "Train epoch 48/50: 100%|████████████| 625/625 [01:47<00:00,  5.82it/s, loss=0.3934, accuracy=0.8618]\n"
     ]
    },
    {
     "name": "stdout",
     "output_type": "stream",
     "text": [
      "Epoch 48/50 -> Train Loss: 0.3934, Train Acc: 0.8618, Val Loss: 0.4910, Val Acc: 0.8444\n"
     ]
    },
    {
     "name": "stderr",
     "output_type": "stream",
     "text": [
      "Train epoch 49/50: 100%|████████████| 625/625 [01:46<00:00,  5.86it/s, loss=0.3984, accuracy=0.8595]\n"
     ]
    },
    {
     "name": "stdout",
     "output_type": "stream",
     "text": [
      "Epoch 49/50 -> Train Loss: 0.3984, Train Acc: 0.8595, Val Loss: 0.4990, Val Acc: 0.8395\n"
     ]
    },
    {
     "name": "stderr",
     "output_type": "stream",
     "text": [
      "Train epoch 50/50: 100%|████████████| 625/625 [01:49<00:00,  5.71it/s, loss=0.3953, accuracy=0.8603]\n"
     ]
    },
    {
     "name": "stdout",
     "output_type": "stream",
     "text": [
      "Epoch 50/50 -> Train Loss: 0.3953, Train Acc: 0.8603, Val Loss: 0.4974, Val Acc: 0.8447\n"
     ]
    }
   ],
   "source": [
    "train_loss_history, train_acc_history, val_loss_history, val_acc_history = train(model, train_loader, val_loader, criterion, optimizer, scheduler, device, epochs=num_epochs)"
   ]
  },
  {
   "cell_type": "code",
   "execution_count": 32,
   "id": "08dcb17e-73b3-451c-8298-835029326057",
   "metadata": {},
   "outputs": [
    {
     "data": {
      "image/png": "[encoded data removed]",
      "text/plain": [
       "<Figure size 1200x500 with 2 Axes>"
      ]
     },
     "metadata": {},
     "output_type": "display_data"
    }
   ],
   "source": [
    "epochs = range(1, len(train_loss_history) + 1)\n",
    "\n",
    "# График функции потерь на тренировочных данных\n",
    "plt.figure(figsize=(12, 5))\n",
    "plt.subplot(1, 2, 1)\n",
    "plt.plot(epochs, train_loss_history, 'b', label='Train Loss')\n",
    "plt.plot(epochs, val_loss_history, 'r', label='Validation Loss')\n",
    "plt.title('Train and Validation Loss')\n",
    "plt.xlabel('Epochs')\n",
    "plt.ylabel('Loss')\n",
    "plt.legend()\n",
    "\n",
    "# График точности на валидационных данных\n",
    "plt.subplot(1, 2, 2)\n",
    "plt.plot(epochs, train_acc_history, 'b', label='Train Accuracy')\n",
    "plt.plot(epochs, val_acc_history, 'g', label='Validation Accuracy')\n",
    "plt.title('Validation Accuracy')\n",
    "plt.xlabel('Epochs')\n",
    "plt.ylabel('Accuracy')\n",
    "plt.legend()\n",
    "\n",
    "plt.tight_layout()\n",
    "plt.show()"
   ]
  },
  {
   "cell_type": "markdown",
   "id": "a195b688-6baa-4c71-bc0c-5f90d7eed6da",
   "metadata": {},
   "source": [
    "Сделайте выводы о качестве обучения"
   ]
  },
  {
   "cell_type": "markdown",
   "id": "ff061f53-e474-4cb4-b34d-45f14546c400",
   "metadata": {},
   "source": [
    "Оцените тестовую метрику на тестовых данных"
   ]
  },
  {
   "cell_type": "code",
   "execution_count": 35,
   "id": "68c54f83-e0a6-4e1c-87c7-b129028cae76",
   "metadata": {},
   "outputs": [
    {
     "name": "stdout",
     "output_type": "stream",
     "text": [
      "Test Loss: 0.4974\n",
      "Test Accuracy: 0.8447\n"
     ]
    }
   ],
   "source": [
    "test_acc, test_loss = test(model, test_loader, criterion, device)\n",
    "print('Test Loss: {:.4f}\\nTest Accuracy: {:.4f}'.format(test_loss, test_acc))"
   ]
  },
  {
   "cell_type": "markdown",
   "id": "06b78b24-c338-4e42-81ce-7c120d8fd420",
   "metadata": {},
   "source": [
    "## Что дальше?\n",
    "Теперь, когда у вас есть все необходимое - экспериментируйте. Можете изменить все что угодно, креативность поощряется. Используйте новые модели, loss-функции, аугментацию, ансамбли, выдумывайте все, что сможете"
   ]
  },
  {
   "cell_type": "markdown",
   "id": "5c373039-62ab-441a-84bc-473d3fa726d2",
   "metadata": {},
   "source": [
    "## Критерии оценки\n",
    "Accuracy - на тестовых данных\n",
    "- $Accuracy \\leq 0.67$ - 0 баллов\n",
    "- $0.67 < Accuracy \\leq 0.72$ - 2 балла\n",
    "- $0.72 < Accuracy \\leq 0.77$ - 4 балла\n",
    "- $0.77 < Accuracy \\leq 0.82$ - 6 баллов\n",
    "- $0.82 < Accuracy \\leq 0.87$ - 8 баллов\n",
    "- $Accuracy > 0.87$ - 10 баллов"
   ]
  }
 ],
 "metadata": {
  "kernelspec": {
   "display_name": "Python 3 (ipykernel)",
   "language": "python",
   "name": "python3"
  },
  "language_info": {
   "codemirror_mode": {
    "name": "ipython",
    "version": 3
   },
   "file_extension": ".py",
   "mimetype": "text/x-python",
   "name": "python",
   "nbconvert_exporter": "python",
   "pygments_lexer": "ipython3",
   "version": "3.12.4"
  }
 },
 "nbformat": 4,
 "nbformat_minor": 5
}
